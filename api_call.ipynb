{
 "cells": [
  {
   "cell_type": "code",
   "execution_count": 15,
   "id": "f5bd2916",
   "metadata": {},
   "outputs": [
    {
     "name": "stdout",
     "output_type": "stream",
     "text": [
      "{\"get\":\"standings\",\"parameters\":{\"league\":\"55\",\"season\":\"2020\"},\"errors\":[],\"results\":0,\"response\":[]}\n"
     ]
    }
   ],
   "source": [
    "import ssl\n",
    "\n",
    "try:\n",
    "    _create_unverified_https_context = ssl._create_unverified_context\n",
    "except AttributeError:\n",
    "    # Legacy Python that doesn't verify HTTPS certificates by default\n",
    "    pass\n",
    "else:\n",
    "    # Handle target environment that doesn't support HTTPS verification\n",
    "    ssl._create_default_https_context = _create_unverified_https_context\n",
    "\n",
    "import http.client\n",
    "\n",
    "conn = http.client.HTTPSConnection(\"api-basketball.p.rapidapi.com\")\n",
    "\n",
    "headers = {\n",
    "    'X-RapidAPI-Key': \"99ebbcfa2cmsh38219c7471b082fp1cad42jsn44fccbc93390\",\n",
    "    'X-RapidAPI-Host': \"api-basketball.p.rapidapi.com\"\n",
    "    }\n",
    "\n",
    "conn.request(\"GET\", \"/standings?league=12&season=2022-2023\", headers=headers)\n",
    "\n",
    "res = conn.getresponse()\n",
    "data = res.read()\n",
    "\n",
    "print(data.decode(\"utf-8\"))"
   ]
  },
  {
   "cell_type": "code",
   "execution_count": 8,
   "id": "d7463af7",
   "metadata": {},
   "outputs": [],
   "source": [
    "import json\n",
    "data = json.loads(data)"
   ]
  },
  {
   "cell_type": "code",
   "execution_count": 10,
   "id": "a28c06e3",
   "metadata": {},
   "outputs": [
    {
     "name": "stdout",
     "output_type": "stream",
     "text": [
      "{'id': 120, 'name': 'Euroleague', 'type': 'cup', 'logo': 'https://media-3.api-sports.io/basketball/leagues/120.png', 'country': {'id': 55, 'name': 'Europe', 'code': None, 'flag': None}, 'seasons': [{'season': 2022, 'start': '2022-10-06', 'end': '2023-04-14'}, {'season': 2020, 'start': '2020-10-01', 'end': '2021-05-30'}, {'season': 2008, 'start': '2008-10-20', 'end': '2009-05-03'}, {'season': 2009, 'start': '2009-09-29', 'end': '2010-05-09'}, {'season': 2018, 'start': '2018-10-11', 'end': '2019-05-19'}, {'season': 2021, 'start': '2021-09-30', 'end': '2022-05-21'}, {'season': 2017, 'start': '2017-10-12', 'end': '2018-05-20'}, {'season': 2016, 'start': '2016-10-12', 'end': '2017-05-21'}, {'season': 2015, 'start': '2015-10-15', 'end': '2016-05-15'}, {'season': 2014, 'start': '2014-09-23', 'end': '2015-05-17'}, {'season': 2013, 'start': '2013-10-01', 'end': '2014-05-18'}, {'season': 2012, 'start': '2012-09-25', 'end': '2013-05-12'}, {'season': 2011, 'start': '2011-09-29', 'end': '2012-05-13'}, {'season': 2010, 'start': '2010-09-21', 'end': '2011-05-08'}]}\n",
      "120\n"
     ]
    }
   ],
   "source": [
    "for league in data['response']:\n",
    "    if league['name'] == 'Euroleague':\n",
    "        print(league)\n",
    "        print(league['id'])"
   ]
  },
  {
   "cell_type": "code",
   "execution_count": 17,
   "id": "9d4bade0",
   "metadata": {},
   "outputs": [
    {
     "name": "stdout",
     "output_type": "stream",
     "text": [
      "{\"result_url\":\"https:\\/\\/goolnk.com\\/vkNyvW\"}\n"
     ]
    }
   ],
   "source": [
    "import http.client\n",
    "\n",
    "conn = http.client.HTTPSConnection(\"url-shortener-service.p.rapidapi.com\")\n",
    "\n",
    "payload = \"url=http://www.lrec-conf.org/proceedings/lrec2022/workshops/ResT-UP/pdf/2022.restup2-1.3.pdf\"\n",
    "\n",
    "headers = {\n",
    "    'content-type': \"application/x-www-form-urlencoded\",\n",
    "    'X-RapidAPI-Key': \"99ebbcfa2cmsh38219c7471b082fp1cad42jsn44fccbc93390\",\n",
    "    'X-RapidAPI-Host': \"url-shortener-service.p.rapidapi.com\"\n",
    "    }\n",
    "\n",
    "conn.request(\"POST\", \"/shorten\", payload, headers)\n",
    "\n",
    "res = conn.getresponse()\n",
    "data = res.read()\n",
    "\n",
    "print(data.decode(\"utf-8\"))"
   ]
  },
  {
   "cell_type": "code",
   "execution_count": 19,
   "id": "9e948ff9",
   "metadata": {},
   "outputs": [
    {
     "data": {
      "text/plain": [
       "dict_values(['https://goolnk.com/vkNyvW'])"
      ]
     },
     "execution_count": 19,
     "metadata": {},
     "output_type": "execute_result"
    }
   ],
   "source": [
    "json.loads(data).values()"
   ]
  },
  {
   "cell_type": "code",
   "execution_count": 20,
   "id": "858c4438",
   "metadata": {},
   "outputs": [
    {
     "data": {
      "text/plain": [
       "'https://goolnk.com/vkNyvW'"
      ]
     },
     "execution_count": 20,
     "metadata": {},
     "output_type": "execute_result"
    }
   ],
   "source": [
    "'https://goolnk.com/vkNyvW'"
   ]
  },
  {
   "cell_type": "code",
   "execution_count": null,
   "id": "a53d2b4d",
   "metadata": {},
   "outputs": [],
   "source": []
  }
 ],
 "metadata": {
  "kernelspec": {
   "display_name": "Python 3 (ipykernel)",
   "language": "python",
   "name": "python3"
  },
  "language_info": {
   "codemirror_mode": {
    "name": "ipython",
    "version": 3
   },
   "file_extension": ".py",
   "mimetype": "text/x-python",
   "name": "python",
   "nbconvert_exporter": "python",
   "pygments_lexer": "ipython3",
   "version": "3.11.1"
  }
 },
 "nbformat": 4,
 "nbformat_minor": 5
}
